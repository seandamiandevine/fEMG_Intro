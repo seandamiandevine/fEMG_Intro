{
 "cells": [
  {
   "cell_type": "markdown",
   "id": "586312ae-77ae-461e-b7fe-aed58e0518f4",
   "metadata": {},
   "source": [
    "# Setup"
   ]
  },
  {
   "cell_type": "code",
   "execution_count": 29,
   "id": "25f6c254-93d9-48d2-98b2-d3b8750ce471",
   "metadata": {},
   "outputs": [],
   "source": [
    "import pandas as pd\n",
    "import numpy as np\n",
    "import matplotlib.pyplot as plt\n",
    "import seaborn as sns\n",
    "from scipy.signal import butter, lfilter, iirnotch\n",
    "from scipy.ndimage import gaussian_filter1d\n",
    "\n",
    "pd.options.mode.chained_assignment = None\n"
   ]
  },
  {
   "cell_type": "code",
   "execution_count": 30,
   "id": "c08b4bd9-ae46-400f-b95b-6859864d5707",
   "metadata": {},
   "outputs": [],
   "source": [
    "def bandpass_filter(x,lowcut, highcut, fs, order=5):\n",
    "    nyquist = 0.5 * fs\n",
    "    low = lowcut / nyquist\n",
    "    high = highcut / nyquist\n",
    "    b, a = butter(order, [low, high], btype='band')\n",
    "    return lfilter(b, a, x)\n",
    "\n",
    "\n",
    "def notch_filter(x, notch_freq, Q, fs):\n",
    "    nyquist = 0.5 * fs\n",
    "    notch_freq_normalized = notch_freq / nyquist\n",
    "    b, a = iirnotch(notch_freq_normalized, Q)\n",
    "    filtered_data = lfilter(b, a, x)\n",
    "    return filtered_data"
   ]
  },
  {
   "cell_type": "code",
   "execution_count": 31,
   "id": "2bf24d3d-06c2-4935-9c98-0d0ecaf816ea",
   "metadata": {},
   "outputs": [],
   "source": [
    "np.random.seed(2023)"
   ]
  },
  {
   "cell_type": "markdown",
   "id": "02e31ce2-414f-4bc8-b53c-580d44b497da",
   "metadata": {},
   "source": [
    "In the tutorial, I spoke about using the 1D Gaussian filter as an option. Set this to `True` if want to include that as a processing stop below. "
   ]
  },
  {
   "cell_type": "code",
   "execution_count": 32,
   "id": "7f6ea03e-21d3-4f44-bcb8-507a8fd34e42",
   "metadata": {},
   "outputs": [],
   "source": [
    "APPLY_G1D = False"
   ]
  },
  {
   "cell_type": "markdown",
   "id": "e123a06f-349e-4d8e-9c56-63cebd05e085",
   "metadata": {
    "tags": []
   },
   "source": [
    "# Load data\n",
    "\n",
    "Data comes from [this paper](https://www.ncbi.nlm.nih.gov/pmc/articles/PMC9542454/). They reflect surface fEMG recordings from the corrugator, zygomaticus, and orbicularis oculi muscle groups during the watching of emotional videos in VR. For the purposes of this demonstration, we will focus solely on the corrugator from a single participant. \n",
    "\n",
    "The full dataset is available [here](https://www.kaggle.com/datasets/emteqlabs/emgdatavr?resource=download). \n"
   ]
  },
  {
   "cell_type": "code",
   "execution_count": 33,
   "id": "866eb02b-cf0f-4e35-9e5d-ae9646615b28",
   "metadata": {},
   "outputs": [],
   "source": [
    "SAMPLE_RATE = 1000 # given in paper"
   ]
  },
  {
   "cell_type": "code",
   "execution_count": 34,
   "id": "2df9e19e-9b68-46c0-be4e-bf323e8ad132",
   "metadata": {},
   "outputs": [],
   "source": [
    "signal = pd.read_csv(\"EMG.csv\", low_memory=False)"
   ]
  },
  {
   "cell_type": "code",
   "execution_count": 35,
   "id": "c68a99bc-2670-4ccc-958c-6fb32f15daa9",
   "metadata": {},
   "outputs": [
    {
     "data": {
      "text/html": [
       "<div>\n",
       "<style scoped>\n",
       "    .dataframe tbody tr th:only-of-type {\n",
       "        vertical-align: middle;\n",
       "    }\n",
       "\n",
       "    .dataframe tbody tr th {\n",
       "        vertical-align: top;\n",
       "    }\n",
       "\n",
       "    .dataframe thead th {\n",
       "        text-align: right;\n",
       "    }\n",
       "</style>\n",
       "<table border=\"1\" class=\"dataframe\">\n",
       "  <thead>\n",
       "    <tr style=\"text-align: right;\">\n",
       "      <th></th>\n",
       "      <th>Unnamed: 0</th>\n",
       "      <th>Frame</th>\n",
       "      <th>Time</th>\n",
       "      <th>Emg/Contact[0]</th>\n",
       "      <th>Emg/Filtered[0]</th>\n",
       "      <th>Emg/Contact[1]</th>\n",
       "      <th>Emg/Filtered[1]</th>\n",
       "      <th>Emg/Contact[2]</th>\n",
       "      <th>Emg/Filtered[2]</th>\n",
       "      <th>Emg/Contact[3]</th>\n",
       "      <th>...</th>\n",
       "      <th>Emg/Amplitude[4]</th>\n",
       "      <th>Emg/Amplitude[5]</th>\n",
       "      <th>Emg/Amplitude[6]</th>\n",
       "      <th>event</th>\n",
       "      <th>arousal</th>\n",
       "      <th>valence</th>\n",
       "      <th>Emg/Filtered/zygo/weighted</th>\n",
       "      <th>Emg/Filtered/orbi/weighted</th>\n",
       "      <th>Emg/Filtered/front/weighted</th>\n",
       "      <th>Emg/Filtered/corr/weighted</th>\n",
       "    </tr>\n",
       "  </thead>\n",
       "  <tbody>\n",
       "    <tr>\n",
       "      <th>0</th>\n",
       "      <td>0</td>\n",
       "      <td>1</td>\n",
       "      <td>0.00000</td>\n",
       "      <td>0.0</td>\n",
       "      <td>1.748403e-06</td>\n",
       "      <td>0.0</td>\n",
       "      <td>-6.784107e-07</td>\n",
       "      <td>0.0</td>\n",
       "      <td>0.000004</td>\n",
       "      <td>0.0</td>\n",
       "      <td>...</td>\n",
       "      <td>0.000005</td>\n",
       "      <td>9.276862e-08</td>\n",
       "      <td>0.000002</td>\n",
       "      <td>break</td>\n",
       "      <td>NaN</td>\n",
       "      <td>NaN</td>\n",
       "      <td>-2.830881e-07</td>\n",
       "      <td>-3.377944e-07</td>\n",
       "      <td>1.652373e-06</td>\n",
       "      <td>1.523222e-06</td>\n",
       "    </tr>\n",
       "    <tr>\n",
       "      <th>1</th>\n",
       "      <td>1</td>\n",
       "      <td>2</td>\n",
       "      <td>0.00097</td>\n",
       "      <td>0.0</td>\n",
       "      <td>1.748403e-06</td>\n",
       "      <td>0.0</td>\n",
       "      <td>-6.891353e-07</td>\n",
       "      <td>0.0</td>\n",
       "      <td>0.000003</td>\n",
       "      <td>0.0</td>\n",
       "      <td>...</td>\n",
       "      <td>0.000005</td>\n",
       "      <td>9.254899e-08</td>\n",
       "      <td>0.000002</td>\n",
       "      <td>break</td>\n",
       "      <td>NaN</td>\n",
       "      <td>NaN</td>\n",
       "      <td>-2.995378e-07</td>\n",
       "      <td>8.636111e-07</td>\n",
       "      <td>1.631600e-06</td>\n",
       "      <td>1.546415e-06</td>\n",
       "    </tr>\n",
       "    <tr>\n",
       "      <th>2</th>\n",
       "      <td>2</td>\n",
       "      <td>3</td>\n",
       "      <td>0.00341</td>\n",
       "      <td>0.0</td>\n",
       "      <td>1.748403e-06</td>\n",
       "      <td>0.0</td>\n",
       "      <td>-8.683577e-07</td>\n",
       "      <td>0.0</td>\n",
       "      <td>0.000004</td>\n",
       "      <td>0.0</td>\n",
       "      <td>...</td>\n",
       "      <td>0.000005</td>\n",
       "      <td>9.232163e-08</td>\n",
       "      <td>0.000002</td>\n",
       "      <td>break</td>\n",
       "      <td>NaN</td>\n",
       "      <td>NaN</td>\n",
       "      <td>-4.006384e-07</td>\n",
       "      <td>8.589989e-07</td>\n",
       "      <td>1.609136e-06</td>\n",
       "      <td>1.581617e-06</td>\n",
       "    </tr>\n",
       "    <tr>\n",
       "      <th>3</th>\n",
       "      <td>3</td>\n",
       "      <td>4</td>\n",
       "      <td>0.00500</td>\n",
       "      <td>11888.0</td>\n",
       "      <td>1.748403e-06</td>\n",
       "      <td>5676.0</td>\n",
       "      <td>-8.640031e-07</td>\n",
       "      <td>8182.0</td>\n",
       "      <td>0.000005</td>\n",
       "      <td>6394.0</td>\n",
       "      <td>...</td>\n",
       "      <td>0.000005</td>\n",
       "      <td>9.208679e-08</td>\n",
       "      <td>0.000002</td>\n",
       "      <td>break</td>\n",
       "      <td>NaN</td>\n",
       "      <td>NaN</td>\n",
       "      <td>-4.094799e-07</td>\n",
       "      <td>4.596773e-06</td>\n",
       "      <td>1.586687e-06</td>\n",
       "      <td>1.500951e-06</td>\n",
       "    </tr>\n",
       "    <tr>\n",
       "      <th>4</th>\n",
       "      <td>4</td>\n",
       "      <td>5</td>\n",
       "      <td>0.00598</td>\n",
       "      <td>11888.0</td>\n",
       "      <td>1.748403e-06</td>\n",
       "      <td>5676.0</td>\n",
       "      <td>-8.210115e-07</td>\n",
       "      <td>8182.0</td>\n",
       "      <td>0.000004</td>\n",
       "      <td>6394.0</td>\n",
       "      <td>...</td>\n",
       "      <td>0.000005</td>\n",
       "      <td>9.184481e-08</td>\n",
       "      <td>0.000002</td>\n",
       "      <td>break</td>\n",
       "      <td>NaN</td>\n",
       "      <td>NaN</td>\n",
       "      <td>-3.976956e-07</td>\n",
       "      <td>4.036282e-06</td>\n",
       "      <td>1.565956e-06</td>\n",
       "      <td>1.597451e-06</td>\n",
       "    </tr>\n",
       "    <tr>\n",
       "      <th>...</th>\n",
       "      <td>...</td>\n",
       "      <td>...</td>\n",
       "      <td>...</td>\n",
       "      <td>...</td>\n",
       "      <td>...</td>\n",
       "      <td>...</td>\n",
       "      <td>...</td>\n",
       "      <td>...</td>\n",
       "      <td>...</td>\n",
       "      <td>...</td>\n",
       "      <td>...</td>\n",
       "      <td>...</td>\n",
       "      <td>...</td>\n",
       "      <td>...</td>\n",
       "      <td>...</td>\n",
       "      <td>...</td>\n",
       "      <td>...</td>\n",
       "      <td>...</td>\n",
       "      <td>...</td>\n",
       "      <td>...</td>\n",
       "      <td>...</td>\n",
       "    </tr>\n",
       "    <tr>\n",
       "      <th>796995</th>\n",
       "      <td>796995</td>\n",
       "      <td>796996</td>\n",
       "      <td>798.16723</td>\n",
       "      <td>11606.0</td>\n",
       "      <td>-3.118061e-06</td>\n",
       "      <td>6060.0</td>\n",
       "      <td>5.710110e-07</td>\n",
       "      <td>8686.0</td>\n",
       "      <td>-0.000004</td>\n",
       "      <td>6436.0</td>\n",
       "      <td>...</td>\n",
       "      <td>0.000001</td>\n",
       "      <td>3.682419e-06</td>\n",
       "      <td>0.000002</td>\n",
       "      <td>break</td>\n",
       "      <td>NaN</td>\n",
       "      <td>NaN</td>\n",
       "      <td>8.143960e-07</td>\n",
       "      <td>-4.207392e-06</td>\n",
       "      <td>-8.547469e-07</td>\n",
       "      <td>-1.697071e-06</td>\n",
       "    </tr>\n",
       "    <tr>\n",
       "      <th>796996</th>\n",
       "      <td>796996</td>\n",
       "      <td>796997</td>\n",
       "      <td>798.16821</td>\n",
       "      <td>11606.0</td>\n",
       "      <td>1.712427e-07</td>\n",
       "      <td>6060.0</td>\n",
       "      <td>3.531053e-06</td>\n",
       "      <td>8686.0</td>\n",
       "      <td>-0.000007</td>\n",
       "      <td>6436.0</td>\n",
       "      <td>...</td>\n",
       "      <td>0.000001</td>\n",
       "      <td>3.677674e-06</td>\n",
       "      <td>0.000002</td>\n",
       "      <td>break</td>\n",
       "      <td>NaN</td>\n",
       "      <td>NaN</td>\n",
       "      <td>6.604009e-06</td>\n",
       "      <td>-6.376943e-06</td>\n",
       "      <td>2.249590e-06</td>\n",
       "      <td>8.371120e-07</td>\n",
       "    </tr>\n",
       "    <tr>\n",
       "      <th>796997</th>\n",
       "      <td>796997</td>\n",
       "      <td>796998</td>\n",
       "      <td>798.16918</td>\n",
       "      <td>11606.0</td>\n",
       "      <td>7.416444e-07</td>\n",
       "      <td>6060.0</td>\n",
       "      <td>9.421344e-06</td>\n",
       "      <td>8686.0</td>\n",
       "      <td>-0.000003</td>\n",
       "      <td>6436.0</td>\n",
       "      <td>...</td>\n",
       "      <td>0.000001</td>\n",
       "      <td>3.672978e-06</td>\n",
       "      <td>0.000002</td>\n",
       "      <td>break</td>\n",
       "      <td>NaN</td>\n",
       "      <td>NaN</td>\n",
       "      <td>5.820414e-06</td>\n",
       "      <td>-2.698305e-06</td>\n",
       "      <td>1.627073e-07</td>\n",
       "      <td>2.141500e-06</td>\n",
       "    </tr>\n",
       "    <tr>\n",
       "      <th>796998</th>\n",
       "      <td>796998</td>\n",
       "      <td>796999</td>\n",
       "      <td>798.17016</td>\n",
       "      <td>11606.0</td>\n",
       "      <td>1.800678e-06</td>\n",
       "      <td>6060.0</td>\n",
       "      <td>1.497080e-05</td>\n",
       "      <td>8686.0</td>\n",
       "      <td>-0.000003</td>\n",
       "      <td>6436.0</td>\n",
       "      <td>...</td>\n",
       "      <td>0.000001</td>\n",
       "      <td>3.668337e-06</td>\n",
       "      <td>0.000002</td>\n",
       "      <td>break</td>\n",
       "      <td>NaN</td>\n",
       "      <td>NaN</td>\n",
       "      <td>6.999971e-06</td>\n",
       "      <td>-2.262094e-06</td>\n",
       "      <td>1.406282e-07</td>\n",
       "      <td>-1.225111e-06</td>\n",
       "    </tr>\n",
       "    <tr>\n",
       "      <th>796999</th>\n",
       "      <td>796999</td>\n",
       "      <td>797000</td>\n",
       "      <td>798.17114</td>\n",
       "      <td>11606.0</td>\n",
       "      <td>5.584306e-06</td>\n",
       "      <td>6060.0</td>\n",
       "      <td>1.257966e-05</td>\n",
       "      <td>8686.0</td>\n",
       "      <td>-0.000003</td>\n",
       "      <td>6436.0</td>\n",
       "      <td>...</td>\n",
       "      <td>0.000001</td>\n",
       "      <td>3.663757e-06</td>\n",
       "      <td>0.000002</td>\n",
       "      <td>break</td>\n",
       "      <td>NaN</td>\n",
       "      <td>NaN</td>\n",
       "      <td>7.376959e-06</td>\n",
       "      <td>-2.688758e-06</td>\n",
       "      <td>3.704226e-06</td>\n",
       "      <td>7.061206e-07</td>\n",
       "    </tr>\n",
       "  </tbody>\n",
       "</table>\n",
       "<p>797000 rows × 31 columns</p>\n",
       "</div>"
      ],
      "text/plain": [
       "        Unnamed: 0   Frame       Time  Emg/Contact[0]  Emg/Filtered[0]  \\\n",
       "0                0       1    0.00000             0.0     1.748403e-06   \n",
       "1                1       2    0.00097             0.0     1.748403e-06   \n",
       "2                2       3    0.00341             0.0     1.748403e-06   \n",
       "3                3       4    0.00500         11888.0     1.748403e-06   \n",
       "4                4       5    0.00598         11888.0     1.748403e-06   \n",
       "...            ...     ...        ...             ...              ...   \n",
       "796995      796995  796996  798.16723         11606.0    -3.118061e-06   \n",
       "796996      796996  796997  798.16821         11606.0     1.712427e-07   \n",
       "796997      796997  796998  798.16918         11606.0     7.416444e-07   \n",
       "796998      796998  796999  798.17016         11606.0     1.800678e-06   \n",
       "796999      796999  797000  798.17114         11606.0     5.584306e-06   \n",
       "\n",
       "        Emg/Contact[1]  Emg/Filtered[1]  Emg/Contact[2]  Emg/Filtered[2]  \\\n",
       "0                  0.0    -6.784107e-07             0.0         0.000004   \n",
       "1                  0.0    -6.891353e-07             0.0         0.000003   \n",
       "2                  0.0    -8.683577e-07             0.0         0.000004   \n",
       "3               5676.0    -8.640031e-07          8182.0         0.000005   \n",
       "4               5676.0    -8.210115e-07          8182.0         0.000004   \n",
       "...                ...              ...             ...              ...   \n",
       "796995          6060.0     5.710110e-07          8686.0        -0.000004   \n",
       "796996          6060.0     3.531053e-06          8686.0        -0.000007   \n",
       "796997          6060.0     9.421344e-06          8686.0        -0.000003   \n",
       "796998          6060.0     1.497080e-05          8686.0        -0.000003   \n",
       "796999          6060.0     1.257966e-05          8686.0        -0.000003   \n",
       "\n",
       "        Emg/Contact[3]  ...  Emg/Amplitude[4]  Emg/Amplitude[5]  \\\n",
       "0                  0.0  ...          0.000005      9.276862e-08   \n",
       "1                  0.0  ...          0.000005      9.254899e-08   \n",
       "2                  0.0  ...          0.000005      9.232163e-08   \n",
       "3               6394.0  ...          0.000005      9.208679e-08   \n",
       "4               6394.0  ...          0.000005      9.184481e-08   \n",
       "...                ...  ...               ...               ...   \n",
       "796995          6436.0  ...          0.000001      3.682419e-06   \n",
       "796996          6436.0  ...          0.000001      3.677674e-06   \n",
       "796997          6436.0  ...          0.000001      3.672978e-06   \n",
       "796998          6436.0  ...          0.000001      3.668337e-06   \n",
       "796999          6436.0  ...          0.000001      3.663757e-06   \n",
       "\n",
       "        Emg/Amplitude[6]  event  arousal  valence  Emg/Filtered/zygo/weighted  \\\n",
       "0               0.000002  break      NaN      NaN               -2.830881e-07   \n",
       "1               0.000002  break      NaN      NaN               -2.995378e-07   \n",
       "2               0.000002  break      NaN      NaN               -4.006384e-07   \n",
       "3               0.000002  break      NaN      NaN               -4.094799e-07   \n",
       "4               0.000002  break      NaN      NaN               -3.976956e-07   \n",
       "...                  ...    ...      ...      ...                         ...   \n",
       "796995          0.000002  break      NaN      NaN                8.143960e-07   \n",
       "796996          0.000002  break      NaN      NaN                6.604009e-06   \n",
       "796997          0.000002  break      NaN      NaN                5.820414e-06   \n",
       "796998          0.000002  break      NaN      NaN                6.999971e-06   \n",
       "796999          0.000002  break      NaN      NaN                7.376959e-06   \n",
       "\n",
       "        Emg/Filtered/orbi/weighted  Emg/Filtered/front/weighted  \\\n",
       "0                    -3.377944e-07                 1.652373e-06   \n",
       "1                     8.636111e-07                 1.631600e-06   \n",
       "2                     8.589989e-07                 1.609136e-06   \n",
       "3                     4.596773e-06                 1.586687e-06   \n",
       "4                     4.036282e-06                 1.565956e-06   \n",
       "...                            ...                          ...   \n",
       "796995               -4.207392e-06                -8.547469e-07   \n",
       "796996               -6.376943e-06                 2.249590e-06   \n",
       "796997               -2.698305e-06                 1.627073e-07   \n",
       "796998               -2.262094e-06                 1.406282e-07   \n",
       "796999               -2.688758e-06                 3.704226e-06   \n",
       "\n",
       "        Emg/Filtered/corr/weighted  \n",
       "0                     1.523222e-06  \n",
       "1                     1.546415e-06  \n",
       "2                     1.581617e-06  \n",
       "3                     1.500951e-06  \n",
       "4                     1.597451e-06  \n",
       "...                            ...  \n",
       "796995               -1.697071e-06  \n",
       "796996                8.371120e-07  \n",
       "796997                2.141500e-06  \n",
       "796998               -1.225111e-06  \n",
       "796999                7.061206e-07  \n",
       "\n",
       "[797000 rows x 31 columns]"
      ]
     },
     "execution_count": 35,
     "metadata": {},
     "output_type": "execute_result"
    }
   ],
   "source": [
    "signal"
   ]
  },
  {
   "cell_type": "code",
   "execution_count": 36,
   "id": "612fc878-1262-436f-8c1b-4ca78d50ca4e",
   "metadata": {},
   "outputs": [
    {
     "data": {
      "text/plain": [
       "Index(['Unnamed: 0', 'Frame', 'Time', 'Emg/Contact[0]', 'Emg/Filtered[0]',\n",
       "       'Emg/Contact[1]', 'Emg/Filtered[1]', 'Emg/Contact[2]',\n",
       "       'Emg/Filtered[2]', 'Emg/Contact[3]', 'Emg/Filtered[3]',\n",
       "       'Emg/Contact[4]', 'Emg/Filtered[4]', 'Emg/Contact[5]',\n",
       "       'Emg/Filtered[5]', 'Emg/Contact[6]', 'Emg/Filtered[6]',\n",
       "       'Emg/Amplitude[0]', 'Emg/Amplitude[1]', 'Emg/Amplitude[2]',\n",
       "       'Emg/Amplitude[3]', 'Emg/Amplitude[4]', 'Emg/Amplitude[5]',\n",
       "       'Emg/Amplitude[6]', 'event', 'arousal', 'valence',\n",
       "       'Emg/Filtered/zygo/weighted', 'Emg/Filtered/orbi/weighted',\n",
       "       'Emg/Filtered/front/weighted', 'Emg/Filtered/corr/weighted'],\n",
       "      dtype='object')"
      ]
     },
     "execution_count": 36,
     "metadata": {},
     "output_type": "execute_result"
    }
   ],
   "source": [
    "signal.columns"
   ]
  },
  {
   "cell_type": "markdown",
   "id": "75f2b0e9-7b19-4a35-b2fc-1111057c6930",
   "metadata": {},
   "source": [
    "The dataset contains already filtered and processed signals, but for our purposes we will simply look at three columns: \n",
    "\n",
    "1. `Emg/Filtered/corr/weighted`, which encodes the corrugator amplitude\n",
    "2. `Time`, a numeric variable indicating the number of m.s. since recording began\n",
    "3. `Event`, a label indicating which event was occuring at that time. Specifically: "
   ]
  },
  {
   "cell_type": "code",
   "execution_count": 37,
   "id": "0d2f6e40-0cf5-435d-bd0c-e67249622f0c",
   "metadata": {},
   "outputs": [
    {
     "data": {
      "text/plain": [
       "array(['break', 'Neu_11', 'Neu_5', 'Neu_1', 'Neu_4', 'Neu_6', 'Neg_5',\n",
       "       'Neg_1', 'Neg_2', 'Neg_3', 'Neg_4', 'Neg_Seal', 'Neu_12', 'Neu_2',\n",
       "       'Neu_3', 'Neu_13', 'Neu_10', 'Pos_1', 'Pos_2', 'Pos_3', 'Pos_4',\n",
       "       'Pos_5', 'Pos_6', 'Pos_7', 'Pos_8', 'Pos_9'], dtype=object)"
      ]
     },
     "execution_count": 37,
     "metadata": {},
     "output_type": "execute_result"
    }
   ],
   "source": [
    "signal.event.unique()"
   ]
  },
  {
   "cell_type": "markdown",
   "id": "fb52695a-032c-4758-85d2-7ba75e4e3a03",
   "metadata": {},
   "source": [
    "**HYPOTHESIS**\n",
    "\n",
    "Corrugator amplitude should be higher during negative videos that positive videos. "
   ]
  },
  {
   "cell_type": "markdown",
   "id": "ff4a970c-7d1d-4be8-bce3-1797be24bee3",
   "metadata": {},
   "source": [
    "## Subset data\n"
   ]
  },
  {
   "cell_type": "code",
   "execution_count": 38,
   "id": "f124fecb-f7b6-4558-a95a-528b05f3cc9f",
   "metadata": {},
   "outputs": [
    {
     "data": {
      "text/html": [
       "<div>\n",
       "<style scoped>\n",
       "    .dataframe tbody tr th:only-of-type {\n",
       "        vertical-align: middle;\n",
       "    }\n",
       "\n",
       "    .dataframe tbody tr th {\n",
       "        vertical-align: top;\n",
       "    }\n",
       "\n",
       "    .dataframe thead th {\n",
       "        text-align: right;\n",
       "    }\n",
       "</style>\n",
       "<table border=\"1\" class=\"dataframe\">\n",
       "  <thead>\n",
       "    <tr style=\"text-align: right;\">\n",
       "      <th></th>\n",
       "      <th>Time</th>\n",
       "      <th>event</th>\n",
       "      <th>Emg/Filtered/corr/weighted</th>\n",
       "    </tr>\n",
       "  </thead>\n",
       "  <tbody>\n",
       "    <tr>\n",
       "      <th>0</th>\n",
       "      <td>0.00000</td>\n",
       "      <td>break</td>\n",
       "      <td>1.523222e-06</td>\n",
       "    </tr>\n",
       "    <tr>\n",
       "      <th>1</th>\n",
       "      <td>0.00097</td>\n",
       "      <td>break</td>\n",
       "      <td>1.546415e-06</td>\n",
       "    </tr>\n",
       "    <tr>\n",
       "      <th>2</th>\n",
       "      <td>0.00341</td>\n",
       "      <td>break</td>\n",
       "      <td>1.581617e-06</td>\n",
       "    </tr>\n",
       "    <tr>\n",
       "      <th>3</th>\n",
       "      <td>0.00500</td>\n",
       "      <td>break</td>\n",
       "      <td>1.500951e-06</td>\n",
       "    </tr>\n",
       "    <tr>\n",
       "      <th>4</th>\n",
       "      <td>0.00598</td>\n",
       "      <td>break</td>\n",
       "      <td>1.597451e-06</td>\n",
       "    </tr>\n",
       "    <tr>\n",
       "      <th>...</th>\n",
       "      <td>...</td>\n",
       "      <td>...</td>\n",
       "      <td>...</td>\n",
       "    </tr>\n",
       "    <tr>\n",
       "      <th>796995</th>\n",
       "      <td>798.16723</td>\n",
       "      <td>break</td>\n",
       "      <td>-1.697071e-06</td>\n",
       "    </tr>\n",
       "    <tr>\n",
       "      <th>796996</th>\n",
       "      <td>798.16821</td>\n",
       "      <td>break</td>\n",
       "      <td>8.371120e-07</td>\n",
       "    </tr>\n",
       "    <tr>\n",
       "      <th>796997</th>\n",
       "      <td>798.16918</td>\n",
       "      <td>break</td>\n",
       "      <td>2.141500e-06</td>\n",
       "    </tr>\n",
       "    <tr>\n",
       "      <th>796998</th>\n",
       "      <td>798.17016</td>\n",
       "      <td>break</td>\n",
       "      <td>-1.225111e-06</td>\n",
       "    </tr>\n",
       "    <tr>\n",
       "      <th>796999</th>\n",
       "      <td>798.17114</td>\n",
       "      <td>break</td>\n",
       "      <td>7.061206e-07</td>\n",
       "    </tr>\n",
       "  </tbody>\n",
       "</table>\n",
       "<p>797000 rows × 3 columns</p>\n",
       "</div>"
      ],
      "text/plain": [
       "             Time  event  Emg/Filtered/corr/weighted\n",
       "0         0.00000  break                1.523222e-06\n",
       "1         0.00097  break                1.546415e-06\n",
       "2         0.00341  break                1.581617e-06\n",
       "3         0.00500  break                1.500951e-06\n",
       "4         0.00598  break                1.597451e-06\n",
       "...           ...    ...                         ...\n",
       "796995  798.16723  break               -1.697071e-06\n",
       "796996  798.16821  break                8.371120e-07\n",
       "796997  798.16918  break                2.141500e-06\n",
       "796998  798.17016  break               -1.225111e-06\n",
       "796999  798.17114  break                7.061206e-07\n",
       "\n",
       "[797000 rows x 3 columns]"
      ]
     },
     "execution_count": 38,
     "metadata": {},
     "output_type": "execute_result"
    }
   ],
   "source": [
    "signal[[\"Time\",\"event\",\"Emg/Filtered/corr/weighted\"]]"
   ]
  },
  {
   "cell_type": "code",
   "execution_count": 39,
   "id": "2416c559-92a9-479e-989e-c52e56efd8e7",
   "metadata": {},
   "outputs": [
    {
     "data": {
      "text/html": [
       "<div>\n",
       "<style scoped>\n",
       "    .dataframe tbody tr th:only-of-type {\n",
       "        vertical-align: middle;\n",
       "    }\n",
       "\n",
       "    .dataframe tbody tr th {\n",
       "        vertical-align: top;\n",
       "    }\n",
       "\n",
       "    .dataframe thead th {\n",
       "        text-align: right;\n",
       "    }\n",
       "</style>\n",
       "<table border=\"1\" class=\"dataframe\">\n",
       "  <thead>\n",
       "    <tr style=\"text-align: right;\">\n",
       "      <th></th>\n",
       "      <th>time</th>\n",
       "      <th>event</th>\n",
       "      <th>crg</th>\n",
       "    </tr>\n",
       "  </thead>\n",
       "  <tbody>\n",
       "    <tr>\n",
       "      <th>0</th>\n",
       "      <td>0.00000</td>\n",
       "      <td>break</td>\n",
       "      <td>0.000002</td>\n",
       "    </tr>\n",
       "    <tr>\n",
       "      <th>1</th>\n",
       "      <td>0.00097</td>\n",
       "      <td>break</td>\n",
       "      <td>0.000002</td>\n",
       "    </tr>\n",
       "    <tr>\n",
       "      <th>2</th>\n",
       "      <td>0.00341</td>\n",
       "      <td>break</td>\n",
       "      <td>0.000002</td>\n",
       "    </tr>\n",
       "    <tr>\n",
       "      <th>3</th>\n",
       "      <td>0.00500</td>\n",
       "      <td>break</td>\n",
       "      <td>0.000002</td>\n",
       "    </tr>\n",
       "    <tr>\n",
       "      <th>4</th>\n",
       "      <td>0.00598</td>\n",
       "      <td>break</td>\n",
       "      <td>0.000002</td>\n",
       "    </tr>\n",
       "  </tbody>\n",
       "</table>\n",
       "</div>"
      ],
      "text/plain": [
       "      time  event       crg\n",
       "0  0.00000  break  0.000002\n",
       "1  0.00097  break  0.000002\n",
       "2  0.00341  break  0.000002\n",
       "3  0.00500  break  0.000002\n",
       "4  0.00598  break  0.000002"
      ]
     },
     "execution_count": 39,
     "metadata": {},
     "output_type": "execute_result"
    }
   ],
   "source": [
    "signal = signal[[\"Time\",\"event\",\"Emg/Filtered/corr/weighted\"]]\n",
    "signal.columns = ['time','event','crg']\n",
    "signal.head()"
   ]
  },
  {
   "cell_type": "markdown",
   "id": "e0461cb1-fcd1-4b86-bec9-fe7f2d1d394e",
   "metadata": {},
   "source": [
    "# Visualize signal over time"
   ]
  },
  {
   "cell_type": "code",
   "execution_count": 40,
   "id": "a18afc11-c9e2-4c8f-87dc-e5795ea1c7fe",
   "metadata": {},
   "outputs": [
    {
     "data": {
      "text/plain": [
       "[Text(0.5, 0, 'Time (s.)'), Text(0, 0.5, 'Corrugator Amplituce (mV)')]"
      ]
     },
     "execution_count": 40,
     "metadata": {},
     "output_type": "execute_result"
    },
    {
     "data": {
      "image/png": "[encoded data removed]",
      "text/plain": [
       "<Figure size 576x288 with 1 Axes>"
      ]
     },
     "metadata": {
      "needs_background": "light"
     },
     "output_type": "display_data"
    }
   ],
   "source": [
    "fig,ax=plt.subplots(1, figsize=(8,4))\n",
    "ax.plot(signal.time,signal.crg)\n",
    "ax.grid(True,axis='y')\n",
    "ax.set(xlabel=\"Time (s.)\", ylabel=\"Corrugator Amplituce (mV)\")"
   ]
  },
  {
   "cell_type": "markdown",
   "id": "631aa1ba-d91b-4a31-b1e3-6543d7b1d8cd",
   "metadata": {},
   "source": [
    "# Process signal"
   ]
  },
  {
   "cell_type": "markdown",
   "id": "2fb20b40-371c-40c6-b92a-f24a92bd8b04",
   "metadata": {},
   "source": [
    "## Bandpass filter (20-450)"
   ]
  },
  {
   "cell_type": "code",
   "execution_count": 41,
   "id": "f9ae8537-71ba-4ddd-8dc5-cde947dcb78d",
   "metadata": {},
   "outputs": [],
   "source": [
    "signal[\"crg_bp\"] = bandpass_filter(signal.crg, 20, 450, SAMPLE_RATE)"
   ]
  },
  {
   "cell_type": "code",
   "execution_count": 42,
   "id": "5498fbcf-066d-4b79-9cef-3fe5615c600a",
   "metadata": {},
   "outputs": [
    {
     "data": {
      "text/plain": [
       "[Text(0.5, 0, 'Time (s.)'), Text(0, 0.5, 'Amplitude (mV)')]"
      ]
     },
     "execution_count": 42,
     "metadata": {},
     "output_type": "execute_result"
    },
    {
     "data": {
      "image/png": "[encoded data removed]",
      "text/plain": [
       "<Figure size 576x288 with 1 Axes>"
      ]
     },
     "metadata": {
      "needs_background": "light"
     },
     "output_type": "display_data"
    }
   ],
   "source": [
    "fig,ax=plt.subplots(1, figsize=(8,4))\n",
    "ax.plot(signal.time,signal.crg, label=\"Raw\", alpha=.7)\n",
    "ax.plot(signal.time,signal.crg_bp, label=\"Bandpass\", alpha=.7)\n",
    "ax.legend(loc=\"lower left\")\n",
    "ax.grid(True,axis='y')\n",
    "ax.set(xlabel=\"Time (s.)\", ylabel=\"Amplitude (mV)\")"
   ]
  },
  {
   "cell_type": "markdown",
   "id": "70b95801-4dd3-497a-9ee4-8b18f0470770",
   "metadata": {},
   "source": [
    "## Optional: Gaussian 1-D filter"
   ]
  },
  {
   "cell_type": "code",
   "execution_count": 43,
   "id": "b233b85e-1eaf-450f-9901-cf02a5c3b49f",
   "metadata": {},
   "outputs": [],
   "source": [
    "if APPLY_G1D:\n",
    "    signal_gf = gaussian_filter1d(signal_bp, sigma=.001)\n",
    "\n",
    "    fig, ax = plt.subplots(1, figsize=(10,4))\n",
    "    ax.plot(time, signal_bp, label=\"Bandpassed\")\n",
    "    ax.plot(time, signal_gf, label=\"Guassian 1D\")\n",
    "    ax.grid(True,axis='y')\n",
    "    ax.axhline(0,c='red')\n",
    "    ax.legend(loc=\"lower left\")\n",
    "    ax.set(title=\"\", xlabel=\"Time (s)\", ylabel=\"Amplitude (mV)\", ylim=[-1,1])"
   ]
  },
  {
   "cell_type": "markdown",
   "id": "c1f4ab5e-087f-4b08-8ef4-29bac535c7a7",
   "metadata": {},
   "source": [
    "## Rectify"
   ]
  },
  {
   "cell_type": "code",
   "execution_count": 44,
   "id": "145e512c-59a0-4fda-9caf-2181b6df916e",
   "metadata": {},
   "outputs": [],
   "source": [
    "signal[\"crg_r\"] = signal[\"crg_bp\"].abs()"
   ]
  },
  {
   "cell_type": "code",
   "execution_count": 45,
   "id": "d30762f6-4fb8-4456-aab8-bebcf91a50cd",
   "metadata": {},
   "outputs": [
    {
     "data": {
      "text/plain": [
       "[Text(0.5, 1.0, ''), Text(0.5, 0, 'Time (s)'), Text(0, 0.5, 'Amplitude (mV)')]"
      ]
     },
     "execution_count": 45,
     "metadata": {},
     "output_type": "execute_result"
    },
    {
     "data": {
      "image/png": "[encoded data removed]",
      "text/plain": [
       "<Figure size 720x288 with 1 Axes>"
      ]
     },
     "metadata": {
      "needs_background": "light"
     },
     "output_type": "display_data"
    }
   ],
   "source": [
    "fig, ax = plt.subplots(1, figsize=(10,4))\n",
    "ax.plot(signal.time, signal.crg, label=\"Raw\")\n",
    "ax.plot(signal.time, signal.crg_bp, label=\"Bandpassed\",alpha=.7)\n",
    "ax.plot(signal.time, signal.crg_r, label=\"Rectified\",alpha=.7)\n",
    "ax.grid(True,axis='y')\n",
    "ax.axhline(0,c='red')\n",
    "ax.legend(loc=\"lower left\")\n",
    "ax.set(title=\"\", xlabel=\"Time (s)\", ylabel=\"Amplitude (mV)\")"
   ]
  },
  {
   "cell_type": "markdown",
   "id": "72754897-5e6a-458e-8ea2-a61e30ec43d3",
   "metadata": {},
   "source": [
    "## Notch filter @50 Hz"
   ]
  },
  {
   "cell_type": "code",
   "execution_count": 46,
   "id": "a4989f70-df55-4a98-8e74-2029c68b9570",
   "metadata": {},
   "outputs": [],
   "source": [
    "signal[\"crg_n50\"] = notch_filter(signal[\"crg_r\"], 50, 10, SAMPLE_RATE)"
   ]
  },
  {
   "cell_type": "code",
   "execution_count": 47,
   "id": "bdcbe353-93f0-40ca-9af4-667f607979ae",
   "metadata": {},
   "outputs": [
    {
     "data": {
      "text/plain": [
       "[Text(0.5, 1.0, ''), Text(0.5, 0, 'Time (s)'), Text(0, 0.5, 'Amplitude (mV)')]"
      ]
     },
     "execution_count": 47,
     "metadata": {},
     "output_type": "execute_result"
    },
    {
     "data": {
      "image/png": "[encoded data removed]",
      "text/plain": [
       "<Figure size 720x288 with 1 Axes>"
      ]
     },
     "metadata": {
      "needs_background": "light"
     },
     "output_type": "display_data"
    }
   ],
   "source": [
    "fig, ax = plt.subplots(1, figsize=(10,4))\n",
    "ax.plot(signal.time, signal.crg, label=\"Raw\")\n",
    "ax.plot(signal.time, signal.crg_bp, label=\"Bandpassed\",alpha=.7)\n",
    "ax.plot(signal.time, signal.crg_r, label=\"Rectified\",alpha=.7)\n",
    "ax.plot(signal.time, signal.crg_n50, label=\"Notch @ 50Hz\",alpha=.7)\n",
    "ax.grid(True,axis='y')\n",
    "ax.axhline(0,c='red')\n",
    "ax.legend(loc=\"lower left\")\n",
    "ax.set(title=\"\", xlabel=\"Time (s)\", ylabel=\"Amplitude (mV)\")"
   ]
  },
  {
   "cell_type": "markdown",
   "id": "d99b15de-f91c-4ec2-acf2-f4579a41de47",
   "metadata": {},
   "source": [
    "# Summarize signals\n",
    "\n",
    "To illustrate summarizing the signal, we will group the processed signal by negative and positive event and visualize the difference, as well as compute a basic statistic. \n"
   ]
  },
  {
   "cell_type": "markdown",
   "id": "cea00dad-88df-4bf9-b3f2-18a08341b114",
   "metadata": {},
   "source": [
    "## Replace `break` event with `NA`s"
   ]
  },
  {
   "cell_type": "code",
   "execution_count": 48,
   "id": "df507bdd-d287-4309-93f5-156603ebe3cb",
   "metadata": {},
   "outputs": [],
   "source": [
    "signal['event_no_break'] = signal['event'].copy()\n",
    "signal['event_no_break'][signal.event_no_break=='break'] = np.nan"
   ]
  },
  {
   "cell_type": "code",
   "execution_count": 49,
   "id": "b405057a-4f07-49bd-a899-619fa4ed0c7e",
   "metadata": {},
   "outputs": [
    {
     "data": {
      "text/html": [
       "<div>\n",
       "<style scoped>\n",
       "    .dataframe tbody tr th:only-of-type {\n",
       "        vertical-align: middle;\n",
       "    }\n",
       "\n",
       "    .dataframe tbody tr th {\n",
       "        vertical-align: top;\n",
       "    }\n",
       "\n",
       "    .dataframe thead th {\n",
       "        text-align: right;\n",
       "    }\n",
       "</style>\n",
       "<table border=\"1\" class=\"dataframe\">\n",
       "  <thead>\n",
       "    <tr style=\"text-align: right;\">\n",
       "      <th></th>\n",
       "      <th>time</th>\n",
       "      <th>event</th>\n",
       "      <th>crg</th>\n",
       "      <th>crg_bp</th>\n",
       "      <th>crg_r</th>\n",
       "      <th>crg_n50</th>\n",
       "      <th>event_no_break</th>\n",
       "    </tr>\n",
       "  </thead>\n",
       "  <tbody>\n",
       "    <tr>\n",
       "      <th>0</th>\n",
       "      <td>0.00000</td>\n",
       "      <td>break</td>\n",
       "      <td>0.000002</td>\n",
       "      <td>7.422831e-07</td>\n",
       "      <td>7.422831e-07</td>\n",
       "      <td>7.308027e-07</td>\n",
       "      <td>NaN</td>\n",
       "    </tr>\n",
       "    <tr>\n",
       "      <th>1</th>\n",
       "      <td>0.00097</td>\n",
       "      <td>break</td>\n",
       "      <td>0.000002</td>\n",
       "      <td>1.208350e-06</td>\n",
       "      <td>1.208350e-06</td>\n",
       "      <td>1.168162e-06</td>\n",
       "      <td>NaN</td>\n",
       "    </tr>\n",
       "    <tr>\n",
       "      <th>2</th>\n",
       "      <td>0.00341</td>\n",
       "      <td>break</td>\n",
       "      <td>0.000002</td>\n",
       "      <td>3.246531e-07</td>\n",
       "      <td>3.246531e-07</td>\n",
       "      <td>2.669779e-07</td>\n",
       "      <td>NaN</td>\n",
       "    </tr>\n",
       "    <tr>\n",
       "      <th>3</th>\n",
       "      <td>0.00500</td>\n",
       "      <td>break</td>\n",
       "      <td>0.000002</td>\n",
       "      <td>8.927192e-08</td>\n",
       "      <td>8.927192e-08</td>\n",
       "      <td>3.751661e-08</td>\n",
       "      <td>NaN</td>\n",
       "    </tr>\n",
       "    <tr>\n",
       "      <th>4</th>\n",
       "      <td>0.00598</td>\n",
       "      <td>break</td>\n",
       "      <td>0.000002</td>\n",
       "      <td>-9.804617e-08</td>\n",
       "      <td>9.804617e-08</td>\n",
       "      <td>6.052025e-08</td>\n",
       "      <td>NaN</td>\n",
       "    </tr>\n",
       "  </tbody>\n",
       "</table>\n",
       "</div>"
      ],
      "text/plain": [
       "      time  event       crg        crg_bp         crg_r       crg_n50  \\\n",
       "0  0.00000  break  0.000002  7.422831e-07  7.422831e-07  7.308027e-07   \n",
       "1  0.00097  break  0.000002  1.208350e-06  1.208350e-06  1.168162e-06   \n",
       "2  0.00341  break  0.000002  3.246531e-07  3.246531e-07  2.669779e-07   \n",
       "3  0.00500  break  0.000002  8.927192e-08  8.927192e-08  3.751661e-08   \n",
       "4  0.00598  break  0.000002 -9.804617e-08  9.804617e-08  6.052025e-08   \n",
       "\n",
       "  event_no_break  \n",
       "0            NaN  \n",
       "1            NaN  \n",
       "2            NaN  \n",
       "3            NaN  \n",
       "4            NaN  "
      ]
     },
     "execution_count": 49,
     "metadata": {},
     "output_type": "execute_result"
    }
   ],
   "source": [
    "signal.head()"
   ]
  },
  {
   "cell_type": "markdown",
   "id": "69169d0e-256b-4693-b62b-756aea03fb53",
   "metadata": {},
   "source": [
    "## Replace `NA`s with upcoming event"
   ]
  },
  {
   "cell_type": "code",
   "execution_count": 50,
   "id": "3852fac3-5e68-4556-96c1-ecdbb83dd9b1",
   "metadata": {},
   "outputs": [],
   "source": [
    "signal['event_no_break'] = signal['event_no_break'].fillna(method='bfill')"
   ]
  },
  {
   "cell_type": "markdown",
   "id": "5da946de-1186-43a9-afef-d72b237b5fab",
   "metadata": {},
   "source": [
    "## Group by event and compute deviation from break"
   ]
  },
  {
   "cell_type": "code",
   "execution_count": 65,
   "id": "8e5b8316-e7f2-4246-ab92-2db42e9e96be",
   "metadata": {},
   "outputs": [],
   "source": [
    "summary_signals = \\\n",
    "signal.groupby(\"event_no_break\", as_index=False)\\\n",
    ".apply(lambda x: x.crg_r[x.event!=\"break\"].mean() - x.crg_r[x.event==\"break\"].mean() )"
   ]
  },
  {
   "cell_type": "markdown",
   "id": "0d5d0b0a-9dd3-418a-9bdd-c9d16f9e6b90",
   "metadata": {},
   "source": [
    "## Add general `Pos`,`Neg`,`Neu` labels"
   ]
  },
  {
   "cell_type": "code",
   "execution_count": 66,
   "id": "642cfb16-7961-4aa0-8ba5-f2c82cdf72ba",
   "metadata": {},
   "outputs": [
    {
     "data": {
      "text/html": [
       "<div>\n",
       "<style scoped>\n",
       "    .dataframe tbody tr th:only-of-type {\n",
       "        vertical-align: middle;\n",
       "    }\n",
       "\n",
       "    .dataframe tbody tr th {\n",
       "        vertical-align: top;\n",
       "    }\n",
       "\n",
       "    .dataframe thead th {\n",
       "        text-align: right;\n",
       "    }\n",
       "</style>\n",
       "<table border=\"1\" class=\"dataframe\">\n",
       "  <thead>\n",
       "    <tr style=\"text-align: right;\">\n",
       "      <th></th>\n",
       "      <th>events</th>\n",
       "      <th>crg</th>\n",
       "      <th>valence</th>\n",
       "    </tr>\n",
       "  </thead>\n",
       "  <tbody>\n",
       "    <tr>\n",
       "      <th>0</th>\n",
       "      <td>Neg_1</td>\n",
       "      <td>0.000006</td>\n",
       "      <td>Neg</td>\n",
       "    </tr>\n",
       "    <tr>\n",
       "      <th>1</th>\n",
       "      <td>Neg_2</td>\n",
       "      <td>0.000004</td>\n",
       "      <td>Neg</td>\n",
       "    </tr>\n",
       "    <tr>\n",
       "      <th>2</th>\n",
       "      <td>Neg_3</td>\n",
       "      <td>0.000007</td>\n",
       "      <td>Neg</td>\n",
       "    </tr>\n",
       "    <tr>\n",
       "      <th>3</th>\n",
       "      <td>Neg_4</td>\n",
       "      <td>-0.000012</td>\n",
       "      <td>Neg</td>\n",
       "    </tr>\n",
       "    <tr>\n",
       "      <th>4</th>\n",
       "      <td>Neg_5</td>\n",
       "      <td>0.000002</td>\n",
       "      <td>Neg</td>\n",
       "    </tr>\n",
       "  </tbody>\n",
       "</table>\n",
       "</div>"
      ],
      "text/plain": [
       "  events       crg valence\n",
       "0  Neg_1  0.000006     Neg\n",
       "1  Neg_2  0.000004     Neg\n",
       "2  Neg_3  0.000007     Neg\n",
       "3  Neg_4 -0.000012     Neg\n",
       "4  Neg_5  0.000002     Neg"
      ]
     },
     "execution_count": 66,
     "metadata": {},
     "output_type": "execute_result"
    }
   ],
   "source": [
    "summary_signals[\"valence\"] = summary_signals[\"event_no_break\"].str[:3]\n",
    "summary_signals.columns = [\"events\",\"crg\",\"valence\"]\n",
    "summary_signals.head()"
   ]
  },
  {
   "cell_type": "markdown",
   "id": "7b1b4f02-1aca-47ea-846a-cb75983184b9",
   "metadata": {},
   "source": [
    "## Plot differences in Corrugator signal across valence categories"
   ]
  },
  {
   "cell_type": "code",
   "execution_count": 70,
   "id": "132b8dee-c049-4e21-a52a-2f635f4dcb59",
   "metadata": {},
   "outputs": [
    {
     "data": {
      "text/plain": [
       "[Text(0.5, 0, 'Valence Category'),\n",
       " Text(0, 0.5, '$\\\\Delta$ Amplitude (mV)'),\n",
       " Text(0.5, 1.0, 'Processed Corrugator Signal')]"
      ]
     },
     "execution_count": 70,
     "metadata": {},
     "output_type": "execute_result"
    },
    {
     "data": {
      "image/png": "[encoded data removed]",
      "text/plain": [
       "<Figure size 432x288 with 1 Axes>"
      ]
     },
     "metadata": {
      "needs_background": "light"
     },
     "output_type": "display_data"
    }
   ],
   "source": [
    "fig,ax = plt.subplots(1)\n",
    "\n",
    "sns.barplot(data=summary_signals, x=\"valence\", y=\"crg\", errorbar=None)\n",
    "ax.set(xlabel=\"Valence Category\", ylabel=r\"$\\Delta$ Amplitude (mV)\", \n",
    "       title=\"Processed Corrugator Signal\")"
   ]
  },
  {
   "cell_type": "markdown",
   "id": "df0a7ab5-227d-485a-a496-63066d77dec6",
   "metadata": {},
   "source": [
    "# Conclusion"
   ]
  },
  {
   "cell_type": "markdown",
   "id": "445fda94-4834-41ce-b69c-2b50c6008bc2",
   "metadata": {},
   "source": [
    "As can be seen in the figure above, for this single subject, baseline-corrected corrugator activity was higher for negative stimuli and lower for positive stimuli. \n",
    "\n",
    "This is of course on the basis of a single subject. The processing steps above would be applied to all subjects and traditional statistical tests could be applied to these summary scores. "
   ]
  },
  {
   "cell_type": "code",
   "execution_count": null,
   "id": "e1edf26a-6ed3-4d26-a3e4-1a62e527c3b4",
   "metadata": {},
   "outputs": [],
   "source": []
  }
 ],
 "metadata": {
  "kernelspec": {
   "display_name": "Python 3 (ipykernel)",
   "language": "python",
   "name": "python3"
  },
  "language_info": {
   "codemirror_mode": {
    "name": "ipython",
    "version": 3
   },
   "file_extension": ".py",
   "mimetype": "text/x-python",
   "name": "python",
   "nbconvert_exporter": "python",
   "pygments_lexer": "ipython3",
   "version": "3.9.7"
  },
  "toc-autonumbering": true
 },
 "nbformat": 4,
 "nbformat_minor": 5
}
